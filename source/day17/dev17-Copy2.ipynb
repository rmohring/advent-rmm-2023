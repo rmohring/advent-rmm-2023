{
 "cells": [
  {
   "cell_type": "code",
   "execution_count": 1,
   "id": "a6fb13bf-f62f-4921-a3b2-1cccc84fa44a",
   "metadata": {},
   "outputs": [],
   "source": [
    "import sys\n",
    "sys.path.append('c:/Users/rmmoh/code/rmm/advent-rmm-2023')"
   ]
  },
  {
   "cell_type": "code",
   "execution_count": 2,
   "id": "d60043b3-f037-43d8-9570-3033c1f5623e",
   "metadata": {},
   "outputs": [],
   "source": [
    "import numpy as np\n",
    "from collections import Counter\n",
    "from util.grid import Gridder"
   ]
  },
  {
   "cell_type": "code",
   "execution_count": 111,
   "id": "ad3efabe-dd9c-4bdf-9a7f-e2933866855d",
   "metadata": {},
   "outputs": [],
   "source": [
    "#fh = open(\"input17-1.dat\")\n",
    "fh = open(\"test.dat\")\n",
    "#fh = open(\"test2.dat\")\n",
    "rows = fh.readlines()\n",
    "g = Gridder()\n",
    "for row in rows:\n",
    "    g.addrow(row, strip=True)\n",
    "g.done_building()\n",
    "g.integerize()"
   ]
  },
  {
   "cell_type": "code",
   "execution_count": 112,
   "id": "317cedc5-ae2f-4968-b6e2-c38b5636d899",
   "metadata": {},
   "outputs": [
    {
     "data": {
      "text/plain": [
       "(13, 13)"
      ]
     },
     "execution_count": 112,
     "metadata": {},
     "output_type": "execute_result"
    }
   ],
   "source": [
    "g.shape"
   ]
  },
  {
   "cell_type": "markdown",
   "id": "4e29fc04-c4da-428f-b414-a60b880c3e45",
   "metadata": {},
   "source": [
    "# Part 1"
   ]
  },
  {
   "cell_type": "markdown",
   "id": "bf00f1b3-4b80-4bde-9024-d20fd5c9d46b",
   "metadata": {},
   "source": [
    "For every cell, there are a fixed set of 48 cells they can potentially reach, via multiple methods\n",
    "But you can get a minimum cost for each A-B pair\n"
   ]
  },
  {
   "cell_type": "code",
   "execution_count": 178,
   "id": "0c2a65bf-40e6-413f-b039-0a0cdbeef328",
   "metadata": {},
   "outputs": [],
   "source": [
    "#For every cell, calculate the options and their cost\n",
    "\n",
    "# (R,L) (1,2,3) (U,D) --> New Pos, Cost\n",
    "# (U,D) (1,2,3) (R,L) --> New Pos, Cost\n",
    "\n",
    "grid_height = g.nrows\n",
    "grid_width = g.ncols\n",
    "#grid = g.grid\n",
    "\n",
    "costs = {}\n",
    "path = {}\n",
    "\n",
    "opposite = { (0,1) : (0,-1),\n",
    "             (0,-1) : (0,1),\n",
    "             (-1,0) : (1,0),\n",
    "             (1,0) : (-1,0),\n",
    "             (0,0) : (0,0)\n",
    "           }\n",
    "\n",
    "# 1-step is easy\n",
    "def get_ones(start):\n",
    "    newcosts = []\n",
    "    for step in [(0,-1),(0,1),(-1,0),(1,0)]:\n",
    "#         if step == opposite[last_step]:\n",
    "#             continue\n",
    "\n",
    "        # Need some logic to disallow more than 3 steps in a row\n",
    "        new = start + step\n",
    "        r = new[0]\n",
    "        c = new[1]\n",
    "        if (r>=0) and (c>=0) and (r<g.nrows) and (c<g.ncols):\n",
    "            newcosts.append( ((r,c), g.val(new), step))\n",
    "    return newcosts           \n",
    "        \n",
    "start_tuple = (0,0)\n",
    "start = np.array(start_tuple)\n",
    "newcosts = get_ones(start)\n",
    "\n",
    "for (end_point, cost, last_step) in newcosts:\n",
    "    costs[(start_tuple, end_point)] = (cost, [last_step])\n"
   ]
  },
  {
   "cell_type": "code",
   "execution_count": 179,
   "id": "e3bf557d-a54b-4215-8e85-41c9735d2649",
   "metadata": {
    "tags": []
   },
   "outputs": [
    {
     "name": "stdout",
     "output_type": "stream",
     "text": [
      "(0, 0) (0, 1) 4 [(0, 1)]\n",
      "(0, 0) (1, 0) 3 [(1, 0)]\n"
     ]
    }
   ],
   "source": [
    "for ((center, start_tuple), (cost, steps)) in costs.items():\n",
    "    print(center, start_tuple, cost, steps)"
   ]
  },
  {
   "cell_type": "code",
   "execution_count": 180,
   "id": "f8bf1cf6-f12e-4ccd-bedd-0b7600fff98a",
   "metadata": {
    "scrolled": true,
    "tags": []
   },
   "outputs": [
    {
     "name": "stdout",
     "output_type": "stream",
     "text": [
      "Working level 0\n",
      "(0, 0) (0, 1) 4 [(0, 1)]\n",
      "STEPS [(0, 1)]\n",
      "STEPS [(0, 1)]\n",
      "(0, 0) (1, 0) 3 [(1, 0)]\n",
      "STEPS [(1, 0)]\n",
      "STEPS [(1, 0)]\n",
      "{((0, 0), (0, 2)): (5, [(0, 1), (0, 1)]), ((0, 0), (1, 1)): (5, [(1, 0), (0, 1)]), ((0, 0), (2, 0)): (6, [(1, 0), (1, 0)])}\n",
      "Working level 1\n",
      "(0, 0) (0, 1) 4 [(0, 1)]\n",
      "(0, 0) (1, 0) 3 [(1, 0)]\n",
      "(0, 0) (0, 2) 5 [(0, 1), (0, 1)]\n",
      "STEPS [(0, 1), (0, 1)]\n",
      "STEPS [(0, 1), (0, 1)]\n",
      "(0, 0) (1, 1) 5 [(1, 0), (0, 1)]\n",
      "STEPS [(1, 0), (0, 1)]\n",
      "STEPS [(1, 0), (0, 1)]\n",
      "(0, 0) (2, 0) 6 [(1, 0), (1, 0)]\n",
      "STEPS [(1, 0), (1, 0)]\n",
      "STEPS [(1, 0), (1, 0)]\n",
      "{((0, 0), (0, 3)): (8, [(0, 1), (0, 1), (0, 1)]), ((0, 0), (1, 2)): (6, [(1, 0), (0, 1), (0, 1)]), ((0, 0), (2, 1)): (8, [(1, 0), (1, 0), (0, 1)]), ((0, 0), (3, 0)): (9, [(1, 0), (1, 0), (1, 0)])}\n",
      "Working level 2\n",
      "(0, 0) (0, 1) 4 [(0, 1)]\n",
      "(0, 0) (1, 0) 3 [(1, 0)]\n",
      "(0, 0) (0, 2) 5 [(0, 1), (0, 1)]\n",
      "(0, 0) (1, 1) 5 [(1, 0), (0, 1)]\n",
      "(0, 0) (2, 0) 6 [(1, 0), (1, 0)]\n",
      "(0, 0) (0, 3) 8 [(0, 1), (0, 1), (0, 1)]\n",
      "STEPS [(0, 1), (0, 1), (0, 1)]\n",
      "STEPS [(0, 1), (0, 1), (0, 1)]\n",
      "(0, 0) (1, 2) 6 [(1, 0), (0, 1), (0, 1)]\n",
      "STEPS [(1, 0), (0, 1), (0, 1)]\n",
      "STEPS [(1, 0), (0, 1), (0, 1)]\n",
      "(0, 0) (2, 1) 8 [(1, 0), (1, 0), (0, 1)]\n",
      "STEPS [(1, 0), (1, 0), (0, 1)]\n",
      "STEPS [(1, 0), (1, 0), (0, 1)]\n",
      "(0, 0) (3, 0) 9 [(1, 0), (1, 0), (1, 0)]\n",
      "STEPS [(1, 0), (1, 0), (1, 0)]\n",
      "STEPS [(1, 0), (1, 0), (1, 0)]\n",
      "{((0, 0), (1, 3)): (11, [(1, 0), (0, 1), (0, 1), (0, 1)]), ((0, 0), (2, 2)): (13, [(1, 0), (1, 0), (0, 1), (0, 1)]), ((0, 0), (3, 1)): (13, [(1, 0), (1, 0), (1, 0), (0, 1)])}\n",
      "Wall time: 4 ms\n"
     ]
    }
   ],
   "source": [
    "%%time\n",
    "for level in range(3):\n",
    "    print(f\"Working level {level}\")\n",
    "    tmp = {}\n",
    "    newcosts = {}\n",
    "    for ((center, start_tuple), (cost, steps)) in costs.items():\n",
    "        start = np.array(start_tuple)\n",
    "        tmp = get_ones(start)\n",
    "        if steps is None:\n",
    "            steps = []\n",
    "        print(center, start_tuple, cost, steps)\n",
    "        for (end_point, addl_cost, last_step) in tmp:\n",
    "            if center==end_point or (center, end_point) in costs:\n",
    "                continue\n",
    "            # Check last three steps\n",
    "            print(\"STEPS\", steps)\n",
    "            if len(steps) >= 3:\n",
    "                if steps[-1]==last_step and steps[-2]==last_step and steps[-3]==last_step:\n",
    "                    continue\n",
    "            newcosts[(center, end_point)] = (min(costs.get((center, end_point), 99999), cost+addl_cost), (steps + [last_step]))\n",
    "\n",
    "    print(newcosts)\n",
    "    costs.update(newcosts)"
   ]
  },
  {
   "cell_type": "code",
   "execution_count": 168,
   "id": "30746783-93f3-4480-9c3d-fc8070cfcb7c",
   "metadata": {
    "tags": []
   },
   "outputs": [
    {
     "data": {
      "text/plain": [
       "(139,\n",
       " [(1, 0),\n",
       "  (1, 0),\n",
       "  (1, 0),\n",
       "  (0, 1),\n",
       "  (1, 0),\n",
       "  (1, 0),\n",
       "  (1, 0),\n",
       "  (0, 1),\n",
       "  (1, 0),\n",
       "  (1, 0),\n",
       "  (1, 0),\n",
       "  (0, 1),\n",
       "  (1, 0),\n",
       "  (0, 1),\n",
       "  (0, 1),\n",
       "  (0, 1),\n",
       "  (-1, 0),\n",
       "  (0, 1),\n",
       "  (1, 0),\n",
       "  (0, 1),\n",
       "  (0, 1),\n",
       "  (0, 1),\n",
       "  (-1, 0),\n",
       "  (0, 1),\n",
       "  (1, 0),\n",
       "  (1, 0),\n",
       "  (1, 0),\n",
       "  (0, 1)])"
      ]
     },
     "execution_count": 168,
     "metadata": {},
     "output_type": "execute_result"
    }
   ],
   "source": [
    "costs[((0,0),(12,12))]"
   ]
  },
  {
   "cell_type": "code",
   "execution_count": null,
   "id": "cc61f3a9-b536-4974-aa47-84405ffe470e",
   "metadata": {},
   "outputs": [],
   "source": []
  },
  {
   "cell_type": "code",
   "execution_count": null,
   "id": "5451e6fe-3311-46d4-95bd-3d2bd77b5241",
   "metadata": {},
   "outputs": [],
   "source": []
  },
  {
   "cell_type": "code",
   "execution_count": null,
   "id": "a123300d-e40b-4017-93f8-07e53478257c",
   "metadata": {},
   "outputs": [],
   "source": []
  },
  {
   "cell_type": "code",
   "execution_count": null,
   "id": "fc2034a4-e920-4962-aefb-d4b9405ead58",
   "metadata": {},
   "outputs": [],
   "source": []
  },
  {
   "cell_type": "markdown",
   "id": "7f3ca6dd-7cbb-4d13-a549-519facc342ec",
   "metadata": {},
   "source": [
    "# Part 2"
   ]
  }
 ],
 "metadata": {
  "kernelspec": {
   "display_name": "Python 3",
   "language": "python",
   "name": "python3"
  },
  "language_info": {
   "codemirror_mode": {
    "name": "ipython",
    "version": 3
   },
   "file_extension": ".py",
   "mimetype": "text/x-python",
   "name": "python",
   "nbconvert_exporter": "python",
   "pygments_lexer": "ipython3",
   "version": "3.8.10"
  }
 },
 "nbformat": 4,
 "nbformat_minor": 5
}
