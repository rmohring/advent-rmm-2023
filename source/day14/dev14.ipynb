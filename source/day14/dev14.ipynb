{
 "cells": [
  {
   "cell_type": "code",
   "execution_count": 1,
   "id": "4d829e96-5c2a-43fb-8564-95a5b74afeeb",
   "metadata": {},
   "outputs": [],
   "source": [
    "import sys\n",
    "sys.path.append('c:/Users/rmmoh/code/rmm/advent-rmm-2023')"
   ]
  },
  {
   "cell_type": "code",
   "execution_count": 2,
   "id": "1ce8debf-a197-4aff-b305-85067f02faca",
   "metadata": {},
   "outputs": [],
   "source": [
    "import numpy as np\n",
    "from collections import Counter\n",
    "from util.grid import Gridder"
   ]
  },
  {
   "cell_type": "code",
   "execution_count": 3,
   "id": "2be98c3f-95ad-48eb-b96f-e205f4f5d973",
   "metadata": {},
   "outputs": [],
   "source": [
    "#fh = open(\"input14-1.dat\")\n",
    "fh = open(\"test.dat\")\n",
    "rows = fh.readlines()\n",
    "g = Gridder()\n",
    "for row in rows:\n",
    "    g.addrow(row, strip=True)\n",
    "g.done_building()"
   ]
  },
  {
   "cell_type": "code",
   "execution_count": 4,
   "id": "e3203770-6c32-4f5e-bc05-9d00c8e2edf1",
   "metadata": {},
   "outputs": [],
   "source": [
    "def tilt(g, direction='N'):\n",
    "    if direction==\"W\":\n",
    "        gg = g\n",
    "        endT = False\n",
    "        endFlip = None\n",
    "    elif direction==\"E\":\n",
    "        gg = Gridder(g.fliplr)\n",
    "        endT = False\n",
    "        endFlip = 'lr'\n",
    "    elif direction==\"N\":\n",
    "        gg = Gridder(g.T)\n",
    "        endT = True\n",
    "        endFlip = None\n",
    "    elif direction==\"S\":\n",
    "        gg = Gridder(np.fliplr(g.T))\n",
    "        endT = True\n",
    "        endFlip = 'ud'\n",
    "        \n",
    "    new = []\n",
    "    rows = gg.rows\n",
    "    for row in rows:\n",
    "        ctr = Counter()\n",
    "        newrow = []\n",
    "        base = 0\n",
    "        for i,char in enumerate(row):\n",
    "            ctr[char] += 1\n",
    "            if char==\"#\":\n",
    "                newrow += [\"O\"]*ctr[\"O\"] + [\".\"]*ctr[\".\"] + [\"#\"]\n",
    "                ctr['O'] = 0\n",
    "                ctr['.'] = 0\n",
    "                base = i      \n",
    "            elif (i==len(row)-1) and (char != \"#\"):\n",
    "                newrow += [\"O\"]*ctr[\"O\"] + [\".\"]*ctr[\".\"]\n",
    "        new.append(newrow)\n",
    "    \n",
    "    return Gridder(new, T=endT, flip=endFlip)\n",
    "    #return new "
   ]
  },
  {
   "cell_type": "code",
   "execution_count": 5,
   "id": "27971d79-3bcc-4cae-93d7-162399fad963",
   "metadata": {},
   "outputs": [
    {
     "data": {
      "text/plain": [
       "array([['O', '.', '.', '.', '.', '#', '.', '.', '.', '.'],\n",
       "       ['O', 'O', 'O', '.', '#', '.', '.', '.', '.', '#'],\n",
       "       ['.', '.', '.', '.', '.', '#', '#', '.', '.', '.'],\n",
       "       ['O', 'O', '.', '#', 'O', 'O', '.', '.', '.', '.'],\n",
       "       ['O', 'O', '.', '.', '.', '.', '.', '.', '#', '.'],\n",
       "       ['O', '.', '#', 'O', '.', '.', '.', '#', '.', '#'],\n",
       "       ['O', '.', '.', '.', '.', '#', 'O', 'O', '.', '.'],\n",
       "       ['O', '.', '.', '.', '.', '.', '.', '.', '.', '.'],\n",
       "       ['#', '.', '.', '.', '.', '#', '#', '#', '.', '.'],\n",
       "       ['#', 'O', 'O', '.', '.', '#', '.', '.', '.', '.']], dtype='<U1')"
      ]
     },
     "execution_count": 5,
     "metadata": {},
     "output_type": "execute_result"
    }
   ],
   "source": [
    "chk = tilt(g, \"W\")\n",
    "chk.grid"
   ]
  },
  {
   "cell_type": "code",
   "execution_count": 6,
   "id": "518ce0cc-d554-4cca-b19c-d27f5eec9b0b",
   "metadata": {},
   "outputs": [],
   "source": [
    "def calculate_load(g, direction=\"N\"):\n",
    "    load = 0\n",
    "    for i,row in enumerate(g.flipud):\n",
    "        load += np.count_nonzero(row==\"O\") * (i+1)\n",
    "        #print(row, np.count_nonzero(row==\"O\"))\n",
    "    return load\n",
    "    "
   ]
  },
  {
   "cell_type": "code",
   "execution_count": 7,
   "id": "fd38e30f-5c66-431c-b606-9cc8a4b38813",
   "metadata": {},
   "outputs": [
    {
     "data": {
      "text/plain": [
       "136"
      ]
     },
     "execution_count": 7,
     "metadata": {},
     "output_type": "execute_result"
    }
   ],
   "source": [
    "calculate_load(tilt(g,\"N\"))"
   ]
  },
  {
   "cell_type": "code",
   "execution_count": 8,
   "id": "76ab532b-fa68-4156-8028-2d96dae84374",
   "metadata": {},
   "outputs": [],
   "source": [
    "NUMCYCLES = 1000\n",
    "#NUMCYCLES =1000000000"
   ]
  },
  {
   "cell_type": "code",
   "execution_count": 9,
   "id": "0c4dd447-75e6-4c7a-87db-d47185eaf2a7",
   "metadata": {},
   "outputs": [
    {
     "name": "stdout",
     "output_type": "stream",
     "text": [
      "==============\n",
      ". . . . . # . . . .\n",
      ". . . . # . . . O #\n",
      ". . . . . # # . . .\n",
      ". . . # . . . . . .\n",
      ". . . . . O O O # .\n",
      ". O # . . . O # . #\n",
      ". . . . O # . . . O\n",
      ". . . . . . O O O O\n",
      "# . . . . # # # . O\n",
      "# . O O O # . . O O\n",
      "Wall time: 319 ms\n"
     ]
    }
   ],
   "source": [
    "%%time\n",
    "gg = Gridder(g)\n",
    "for i in range(NUMCYCLES):\n",
    "#    print(\"==============\")\n",
    "#    print(gg.pretty(\" \"))\n",
    "    gg = tilt(gg, \"N\")\n",
    "    gg = tilt(gg, \"W\")\n",
    "    gg = tilt(gg, \"S\")\n",
    "    gg = tilt(gg, \"E\")\n",
    "\n",
    "print(\"==============\")\n",
    "print(gg.pretty(\" \"))\n"
   ]
  },
  {
   "cell_type": "code",
   "execution_count": 10,
   "id": "c6e34445-376e-48f5-8f1b-3fdfcfcb5440",
   "metadata": {},
   "outputs": [
    {
     "data": {
      "text/plain": [
       "104"
      ]
     },
     "execution_count": 10,
     "metadata": {},
     "output_type": "execute_result"
    }
   ],
   "source": [
    "calculate_load(g)"
   ]
  },
  {
   "cell_type": "code",
   "execution_count": 11,
   "id": "c76dd28e-18cd-4dc7-9e44-27906ef27002",
   "metadata": {},
   "outputs": [
    {
     "name": "stdout",
     "output_type": "stream",
     "text": [
      "O....#....\n",
      "O.OO#....#\n",
      ".....##...\n",
      "OO.#O....O\n",
      ".O.....O#.\n",
      "O.#..O.#.#\n",
      "..O..#O..O\n",
      ".......O..\n",
      "#....###..\n",
      "#OO..#....\n"
     ]
    }
   ],
   "source": [
    "print(g)"
   ]
  },
  {
   "cell_type": "code",
   "execution_count": null,
   "id": "a7a2af66-86c5-478e-ba16-477a2f17757b",
   "metadata": {},
   "outputs": [],
   "source": []
  }
 ],
 "metadata": {
  "kernelspec": {
   "display_name": "Python 3",
   "language": "python",
   "name": "python3"
  },
  "language_info": {
   "codemirror_mode": {
    "name": "ipython",
    "version": 3
   },
   "file_extension": ".py",
   "mimetype": "text/x-python",
   "name": "python",
   "nbconvert_exporter": "python",
   "pygments_lexer": "ipython3",
   "version": "3.8.10"
  }
 },
 "nbformat": 4,
 "nbformat_minor": 5
}
